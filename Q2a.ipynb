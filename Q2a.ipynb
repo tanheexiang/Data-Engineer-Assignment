{
 "cells": [
  {
   "cell_type": "code",
   "execution_count": 1,
   "metadata": {},
   "outputs": [
    {
     "ename": "SyntaxError",
     "evalue": "(unicode error) 'unicodeescape' codec can't decode bytes in position 2-3: truncated \\UXXXXXXXX escape (<ipython-input-1-d6e740280f95>, line 7)",
     "output_type": "error",
     "traceback": [
      "\u001b[1;36m  File \u001b[1;32m\"<ipython-input-1-d6e740280f95>\"\u001b[1;36m, line \u001b[1;32m7\u001b[0m\n\u001b[1;33m    local_filename = 'C:\\Users\\b2tanhe\\Desktop\\Sales_Transactions_Dataset_Weekly.csv'\u001b[0m\n\u001b[1;37m                    ^\u001b[0m\n\u001b[1;31mSyntaxError\u001b[0m\u001b[1;31m:\u001b[0m (unicode error) 'unicodeescape' codec can't decode bytes in position 2-3: truncated \\UXXXXXXXX escape\n"
     ]
    }
   ],
   "source": [
    "import requests\n",
    "\n",
    "# The direct link to the Kaggle data set\n",
    "data_url = 'https://www.kaggle.com/crawford/weekly-sales-transactions/downloads/Sales_Transactions_Dataset_Weekly.csv'\n",
    "\n",
    "# The local path where the data set is saved.\n",
    "local_filename = 'C:\\Users\\b2tanhe\\Desktop\\Sales_Transactions_Dataset_Weekly.csv'\n",
    "\n",
    "# Kaggle Username and Password\n",
    "kaggle_info = {'UserName': '', 'Password': ''}\n",
    "\n",
    "# Attempts to download the CSV file. Gets rejected because we are not logged in.\n",
    "r = requests.get(data_url)\n",
    "\n",
    "# Login to Kaggle and retrieve the data.\n",
    "r = requests.post(r.url, data = kaggle_info, prefetch = False)\n",
    "\n",
    "# Writes the data to a local file one chunk at a time.\n",
    "f = open(local_filename, 'w')\n",
    "for chunk in r.iter_content(chunk_size = 512 * 1024): # Reads 512KB at a time into memory\n",
    "    if chunk: # filter out keep-alive new chunks\n",
    "        f.write(chunk)\n",
    "f.close()"
   ]
  }
 ],
 "metadata": {
  "kernelspec": {
   "display_name": "Python 3",
   "language": "python",
   "name": "python3"
  },
  "language_info": {
   "codemirror_mode": {
    "name": "ipython",
    "version": 3
   },
   "file_extension": ".py",
   "mimetype": "text/x-python",
   "name": "python",
   "nbconvert_exporter": "python",
   "pygments_lexer": "ipython3",
   "version": "3.6.3"
  }
 },
 "nbformat": 4,
 "nbformat_minor": 2
}
